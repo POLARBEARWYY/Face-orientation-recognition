{
 "cells": [
  {
   "cell_type": "code",
   "execution_count": 31,
   "metadata": {},
   "outputs": [],
   "source": [
    "# coding=UTF-8 \n",
    "import os\n",
    "import cv2\n",
    "import numpy as np\n",
    "import torch\n",
    "import torch.nn as nn\n",
    "import torchvision\n",
    "from torch.utils.data import DataLoader, Dataset\n",
    "import torchvision.models as models\n",
    "from torchvision import datasets, transforms\n",
    "import matplotlib.pyplot as plt\n",
    "%matplotlib inline"
   ]
  },
  {
   "cell_type": "code",
   "execution_count": 32,
   "metadata": {},
   "outputs": [],
   "source": [
    "class ResNet(nn.Module):\n",
    "    def __init__(self, model):\n",
    "        super(ResNet, self).__init__()\n",
    "        self.resnet_layer = nn.Sequential(*list(model.children())[:-1])#去掉预训练resnet模型的后1层(fc层)\n",
    "        self.Linear_layer = nn.Linear(2048, 4)#分类层\n",
    "\n",
    "    def forward(self, x):\n",
    "        x = self.resnet_layer(x)\n",
    "        x = x.view(x.size(0), -1) \n",
    "        x = self.Linear_layer(x)\n",
    "        return x"
   ]
  },
  {
   "cell_type": "code",
   "execution_count": 33,
   "metadata": {},
   "outputs": [],
   "source": [
    "class FaceAPI(object):\n",
    "    def __init__(self, model_path):\n",
    "        resnet = models.resnet50(pretrained=True)\n",
    "        self.model = ResNet(resnet)#加载一下之前训练好的\n",
    "        self.model.load_state_dict(torch.load (model_path, map_location='cpu'))\n",
    "        self.model.eval()#只能预测，不能训练，所以要加这一句evaluate的简写，不然的话，如果里面有dropout,那么预测的时候也会有dropout，我们不希望这样\n",
    "                        #这是别人定义好的函数，resnet本身就有这函数，调用一下这个，它就知道时候预测了，不是训练了，那么它里面的dropout什么的就不会起作用了，\n",
    "        self.label_dict = {0: 'left', 1: 'right', 2: 'up', 3: 'straight'}\n",
    "        \n",
    "    #定义函数的先后顺序没有要求，因为定义的时候还没有调用\n",
    "    def predict(self, image):#预测\n",
    "        image = self._preprocess(image)\n",
    "        output = self.model(image).argmax(dim =1).numpy()[0]\n",
    "        return self.label_dict[output], np.transpose(image.numpy()[0],(1,2,0))#第二个返回值是为了确认一下，是否变为灰度图了\n",
    "    \n",
    "    def _preprocess(self, image):#处理图片\n",
    "        image = cv2.cvtColor(cv2.cvtColor(image, cv2.COLOR_BGR2GRAY), cv2.COLOR_GRAY2BGR)\n",
    "        image = cv2.resize(image, (224,224))\n",
    "        image = torch.tensor(np.transpose(image, (2, 0, 1)),dtype = torch.float32).view(1, 3, 224, 224)\n",
    "        return image"
   ]
  },
  {
   "cell_type": "code",
   "execution_count": 34,
   "metadata": {},
   "outputs": [],
   "source": [
    "tmp = FaceAPI(\"D:\\\\workshop\\\\test1\\\\resnet50_face.pt\")"
   ]
  },
  {
   "cell_type": "code",
   "execution_count": 35,
   "metadata": {},
   "outputs": [],
   "source": [
    "cap=cv2.VideoCapture(0)\n",
    "while True:    \n",
    "    #从摄像头读取图片    \n",
    "    sucess,img=cap.read()\n",
    "    text = tmp.predict(img)[0]\n",
    "    font = cv2.FONT_HERSHEY_SIMPLEX\n",
    "    cv2.putText(img, text, (200,100), font, 2, (0,255,0), 3) \n",
    "    cv2.imshow(\"img\",img)   \n",
    "    #保持画面的持续。    \n",
    "    k=cv2.waitKey(1)    \n",
    "    if k == 27:        \n",
    "        #通过esc键退出摄像        \n",
    "        cv2.destroyAllWindows()        \n",
    "        break    \n",
    "    elif k==ord(\"s\"):        \n",
    "        #通过s键保存图片，并退出。        \n",
    "        cv2.imwrite(\"image2.jpg\",img)\n",
    "        cv2.destroyAllWindows()\n",
    "        break\n",
    "\n",
    "#关闭摄像头\n",
    "cap.release()\n",
    "    "
   ]
  },
  {
   "cell_type": "code",
   "execution_count": null,
   "metadata": {},
   "outputs": [],
   "source": []
  },
  {
   "cell_type": "code",
   "execution_count": null,
   "metadata": {},
   "outputs": [],
   "source": []
  }
 ],
 "metadata": {
  "kernelspec": {
   "display_name": "Python 3",
   "language": "python",
   "name": "python3"
  },
  "language_info": {
   "codemirror_mode": {
    "name": "ipython",
    "version": 3
   },
   "file_extension": ".py",
   "mimetype": "text/x-python",
   "name": "python",
   "nbconvert_exporter": "python",
   "pygments_lexer": "ipython3",
   "version": "3.6.5"
  }
 },
 "nbformat": 4,
 "nbformat_minor": 2
}
